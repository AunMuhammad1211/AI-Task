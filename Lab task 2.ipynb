{
 "cells": [
  {
   "cell_type": "code",
   "execution_count": 1,
   "id": "100fb3a7",
   "metadata": {},
   "outputs": [],
   "source": [
    "# Mini Project 2"
   ]
  },
  {
   "cell_type": "code",
   "execution_count": 3,
   "id": "d69b5b91",
   "metadata": {},
   "outputs": [],
   "source": [
    "def fizzbuzz():\n",
    "    number = int(input(\"Enter your number\"))\n",
    "    for num in range(1,number+1):\n",
    "        if num%3 == 0 and num%5 == 0:\n",
    "            print(\"FizzBuzz\")\n",
    "        elif num%3 == 0:\n",
    "            print(\"Fizz\")\n",
    "        elif num%5 == 0:\n",
    "            print(\"Buzz\")\n",
    "        else:\n",
    "            print(num)"
   ]
  },
  {
   "cell_type": "code",
   "execution_count": 4,
   "id": "664ff1cf",
   "metadata": {},
   "outputs": [
    {
     "name": "stdout",
     "output_type": "stream",
     "text": [
      "Enter your number100\n",
      "1\n",
      "2\n",
      "Fizz\n",
      "4\n",
      "Buzz\n",
      "Fizz\n",
      "7\n",
      "8\n",
      "Fizz\n",
      "Buzz\n",
      "11\n",
      "Fizz\n",
      "13\n",
      "14\n",
      "FizzBuzz\n",
      "16\n",
      "17\n",
      "Fizz\n",
      "19\n",
      "Buzz\n",
      "Fizz\n",
      "22\n",
      "23\n",
      "Fizz\n",
      "Buzz\n",
      "26\n",
      "Fizz\n",
      "28\n",
      "29\n",
      "FizzBuzz\n",
      "31\n",
      "32\n",
      "Fizz\n",
      "34\n",
      "Buzz\n",
      "Fizz\n",
      "37\n",
      "38\n",
      "Fizz\n",
      "Buzz\n",
      "41\n",
      "Fizz\n",
      "43\n",
      "44\n",
      "FizzBuzz\n",
      "46\n",
      "47\n",
      "Fizz\n",
      "49\n",
      "Buzz\n",
      "Fizz\n",
      "52\n",
      "53\n",
      "Fizz\n",
      "Buzz\n",
      "56\n",
      "Fizz\n",
      "58\n",
      "59\n",
      "FizzBuzz\n",
      "61\n",
      "62\n",
      "Fizz\n",
      "64\n",
      "Buzz\n",
      "Fizz\n",
      "67\n",
      "68\n",
      "Fizz\n",
      "Buzz\n",
      "71\n",
      "Fizz\n",
      "73\n",
      "74\n",
      "FizzBuzz\n",
      "76\n",
      "77\n",
      "Fizz\n",
      "79\n",
      "Buzz\n",
      "Fizz\n",
      "82\n",
      "83\n",
      "Fizz\n",
      "Buzz\n",
      "86\n",
      "Fizz\n",
      "88\n",
      "89\n",
      "FizzBuzz\n",
      "91\n",
      "92\n",
      "Fizz\n",
      "94\n",
      "Buzz\n",
      "Fizz\n",
      "97\n",
      "98\n",
      "Fizz\n",
      "Buzz\n"
     ]
    }
   ],
   "source": [
    "fizzbuzz()"
   ]
  },
  {
   "cell_type": "code",
   "execution_count": 5,
   "id": "4a186ab2",
   "metadata": {},
   "outputs": [
    {
     "name": "stdout",
     "output_type": "stream",
     "text": [
      "Do you want to add some new movies (y/n)n\n"
     ]
    }
   ],
   "source": [
    "# Mini project 2 (Lab 2)\n",
    "movies = [\n",
    "    (\"Eternal Sunshine of the Spotless Mind\", 20000000),\n",
    "    (\"Memento\", 9000000),\n",
    "    (\"Requiem for a Dream\", 4500000),\n",
    "    (\"Pirates of the Caribbean: On Stranger Tides\", 379000000),\n",
    "    (\"Avengers: Age of Ultron\", 365000000),\n",
    "    (\"Avengers: Endgame\", 356000000),\n",
    "    (\"Incredibles 2\", 200000000)\n",
    "]\n",
    "add_to_lsit = []\n",
    "user_choice = input(\"Do you want to add some new movies (y/n)\").lower()\n",
    "while user_choice == 'y':\n",
    "    movie_name = input(\"Enter the movie name you want to add: \")\n",
    "    budget_of_movie = int(input(\"Enter the budget of movie\"))\n",
    "    add_to_lsit.append((movie_name,budget_of_movie))\n",
    "    user_choice = input(\"Do you want to add some new movies (y/n)\").lower()\n",
    "    \n",
    "movies.extend(add_to_lsit)\n"
   ]
  },
  {
   "cell_type": "markdown",
   "id": "f5992a0a",
   "metadata": {},
   "source": [
    "# Total movies budget"
   ]
  },
  {
   "cell_type": "code",
   "execution_count": 6,
   "id": "76d07b53",
   "metadata": {},
   "outputs": [
    {
     "name": "stdout",
     "output_type": "stream",
     "text": [
      "1333500000\n"
     ]
    }
   ],
   "source": [
    "total_movies_budget = 0\n",
    "for data in movies:\n",
    "    movies_budget = data[1]\n",
    "    total_movies_budget += (movies_budget)\n",
    "    \n",
    "print(total_movies_budget)"
   ]
  },
  {
   "cell_type": "code",
   "execution_count": 7,
   "id": "0da31397",
   "metadata": {},
   "outputs": [],
   "source": [
    "average_budget  = total_movies_budget / len(movies)"
   ]
  },
  {
   "cell_type": "markdown",
   "id": "e1bcc2b3",
   "metadata": {},
   "source": [
    "# Average budget of movies"
   ]
  },
  {
   "cell_type": "code",
   "execution_count": 8,
   "id": "644afb1b",
   "metadata": {},
   "outputs": [
    {
     "name": "stdout",
     "output_type": "stream",
     "text": [
      "190500000.0\n"
     ]
    }
   ],
   "source": [
    "print(average_budget)"
   ]
  },
  {
   "cell_type": "markdown",
   "id": "74eda1cd",
   "metadata": {},
   "source": [
    "# Movies has higher budget then average budget"
   ]
  },
  {
   "cell_type": "code",
   "execution_count": 10,
   "id": "2cfda88f",
   "metadata": {},
   "outputs": [
    {
     "name": "stdout",
     "output_type": "stream",
     "text": [
      "Pirates of the Caribbean: On Stranger Tides,379000000\n",
      "Avengers: Age of Ultron,365000000\n",
      "Avengers: Endgame,356000000\n",
      "Incredibles 2,200000000\n"
     ]
    }
   ],
   "source": [
    "high_budget_movies = 0\n",
    "for i in movies:\n",
    "    if i[1] > average_budget:\n",
    "        high_budget_movies += 1\n",
    "        print(f\"{i[0]},{i[1]}\")\n",
    "# print(high_budget_movies)"
   ]
  },
  {
   "cell_type": "markdown",
   "id": "fd00638f",
   "metadata": {},
   "source": [
    "# How much budget is higher than the average budget"
   ]
  },
  {
   "cell_type": "code",
   "execution_count": 11,
   "id": "112c0daf",
   "metadata": {},
   "outputs": [
    {
     "name": "stdout",
     "output_type": "stream",
     "text": [
      "Pirates of the Caribbean: On Stranger Tides,379000000,The differnce is: 188500000.0\n",
      "Avengers: Age of Ultron,365000000,The differnce is: 174500000.0\n",
      "Avengers: Endgame,356000000,The differnce is: 165500000.0\n",
      "Incredibles 2,200000000,The differnce is: 9500000.0\n"
     ]
    }
   ],
   "source": [
    "for x in movies:\n",
    "    if x[1] > average_budget:\n",
    "        difference = x[1]  - average_budget\n",
    "        print(f\"{x[0]},{x[1]},The differnce is: {difference}\")"
   ]
  },
  {
   "cell_type": "markdown",
   "id": "fc789e46",
   "metadata": {},
   "source": [
    "# Movies that spent more than average budget"
   ]
  },
  {
   "cell_type": "code",
   "execution_count": 12,
   "id": "97e8988e",
   "metadata": {},
   "outputs": [
    {
     "name": "stdout",
     "output_type": "stream",
     "text": [
      "The movies that are spent more than the average budget are:  4\n"
     ]
    }
   ],
   "source": [
    "count_movies = 0\n",
    "for i in movies:\n",
    "    if i[1] > average_budget:\n",
    "        count_movies += 1\n",
    "print(\"The movies that are spent more than the average budget are: \",count_movies)"
   ]
  },
  {
   "cell_type": "code",
   "execution_count": 13,
   "id": "ab332d9b",
   "metadata": {},
   "outputs": [],
   "source": [
    "# remove_movie = movies.pop(7)\n",
    "# print(remove_movie)"
   ]
  },
  {
   "cell_type": "code",
   "execution_count": 14,
   "id": "acbe8fbb",
   "metadata": {},
   "outputs": [
    {
     "name": "stdout",
     "output_type": "stream",
     "text": [
      "[('Eternal Sunshine of the Spotless Mind', 20000000), ('Memento', 9000000), ('Requiem for a Dream', 4500000), ('Pirates of the Caribbean: On Stranger Tides', 379000000), ('Avengers: Age of Ultron', 365000000), ('Avengers: Endgame', 356000000), ('Incredibles 2', 200000000)]\n"
     ]
    }
   ],
   "source": [
    "print(movies)"
   ]
  },
  {
   "cell_type": "code",
   "execution_count": null,
   "id": "42772440",
   "metadata": {},
   "outputs": [],
   "source": []
  },
  {
   "cell_type": "code",
   "execution_count": null,
   "id": "e9fe83c7",
   "metadata": {},
   "outputs": [],
   "source": []
  },
  {
   "cell_type": "code",
   "execution_count": 10,
   "id": "cde37958",
   "metadata": {},
   "outputs": [],
   "source": []
  },
  {
   "cell_type": "code",
   "execution_count": 11,
   "id": "1beadba3",
   "metadata": {},
   "outputs": [],
   "source": []
  },
  {
   "cell_type": "code",
   "execution_count": 12,
   "id": "b9fd8766",
   "metadata": {},
   "outputs": [],
   "source": []
  },
  {
   "cell_type": "code",
   "execution_count": null,
   "id": "7194e813",
   "metadata": {},
   "outputs": [],
   "source": []
  }
 ],
 "metadata": {
  "kernelspec": {
   "display_name": "Python 3 (ipykernel)",
   "language": "python",
   "name": "python3"
  },
  "language_info": {
   "codemirror_mode": {
    "name": "ipython",
    "version": 3
   },
   "file_extension": ".py",
   "mimetype": "text/x-python",
   "name": "python",
   "nbconvert_exporter": "python",
   "pygments_lexer": "ipython3",
   "version": "3.11.5"
  }
 },
 "nbformat": 4,
 "nbformat_minor": 5
}
