{
 "cells": [
  {
   "cell_type": "code",
   "execution_count": 8,
   "id": "83d045e1",
   "metadata": {},
   "outputs": [
    {
     "name": "stdout",
     "output_type": "stream",
     "text": [
      "BFS Without Queue:\n",
      "1 2 3 4 5 "
     ]
    }
   ],
   "source": [
    "class TreeNode:\n",
    "    def __init__(self, value):\n",
    "        self.value = value\n",
    "        self.left = None\n",
    "        self.right = None\n",
    "\n",
    "def get_tree_height(node):\n",
    "    if node is None:\n",
    "        return 0\n",
    "    left_height = get_tree_height(node.left)\n",
    "    right_height = get_tree_height(node.right)\n",
    "    return max(left_height, right_height) + 1\n",
    "\n",
    "def print_given_level(node, level):\n",
    "    if node is None:\n",
    "        return\n",
    "    if level == 1:\n",
    "        print(node.value, end=\" \")\n",
    "    elif level > 1:\n",
    "        print_given_level(node.left, level - 1)\n",
    "        print_given_level(node.right, level - 1)\n",
    "\n",
    "def bfs_without_queue(node):\n",
    "    height = get_tree_height(node)\n",
    "    for i in range(1, height + 1):\n",
    "        print_given_level(node, i)\n",
    "\n",
    "\n",
    "\n",
    "root = TreeNode(1)\n",
    "root.left = TreeNode(2)\n",
    "root.right = TreeNode(3)\n",
    "root.left.left = TreeNode(4)\n",
    "root.left.right = TreeNode(5)\n",
    "\n",
    "print(\"BFS Without Queue:\")\n",
    "bfs_without_queue(root)\n"
   ]
  },
  {
   "cell_type": "code",
   "execution_count": 13,
   "id": "c9082450",
   "metadata": {},
   "outputs": [
    {
     "name": "stdout",
     "output_type": "stream",
     "text": [
      "\n",
      "BFS With Queue:\n",
      "1 2 3 4 5 "
     ]
    }
   ],
   "source": [
    "from collections import deque\n",
    "\n",
    "class TreeNode:\n",
    "    def __init__(self, value):\n",
    "        self.value = value\n",
    "        self.left = None\n",
    "        self.right = None\n",
    "\n",
    "def bfs_with_queue(node):\n",
    "    if node is None:\n",
    "        return\n",
    "    \n",
    "    queue = deque([node])\n",
    "    \n",
    "    while queue:\n",
    "        current_node = queue.popleft()\n",
    "        \n",
    "        print(current_node.value, end=\" \")\n",
    "        \n",
    "        if current_node.left:\n",
    "            queue.append(current_node.left)\n",
    "        \n",
    "        if current_node.right:\n",
    "            queue.append(current_node.right)\n",
    "\n",
    "root = TreeNode(1)\n",
    "root.left = TreeNode(2)\n",
    "root.right = TreeNode(3)\n",
    "root.left.left = TreeNode(4)\n",
    "root.left.right = TreeNode(5)\n",
    "\n",
    "print(\"\\nBFS With Queue:\")\n",
    "bfs_with_queue(root)\n"
   ]
  }
 ],
 "metadata": {
  "kernelspec": {
   "display_name": "Python 3 (ipykernel)",
   "language": "python",
   "name": "python3"
  },
  "language_info": {
   "codemirror_mode": {
    "name": "ipython",
    "version": 3
   },
   "file_extension": ".py",
   "mimetype": "text/x-python",
   "name": "python",
   "nbconvert_exporter": "python",
   "pygments_lexer": "ipython3",
   "version": "3.11.5"
  }
 },
 "nbformat": 4,
 "nbformat_minor": 5
}
