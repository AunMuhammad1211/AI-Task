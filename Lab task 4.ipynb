{
 "cells": [
  {
   "cell_type": "code",
   "execution_count": null,
   "id": "ff5517bd",
   "metadata": {},
   "outputs": [],
   "source": [
    "# Mini Project 4"
   ]
  },
  {
   "cell_type": "code",
   "execution_count": null,
   "id": "0eb295bf",
   "metadata": {},
   "outputs": [],
   "source": [
    "# LHUN Algorithm"
   ]
  },
  {
   "cell_type": "code",
   "execution_count": 18,
   "id": "dbd6dcfa",
   "metadata": {},
   "outputs": [
    {
     "name": "stdout",
     "output_type": "stream",
     "text": [
      "Enter your credit/debit card number: 1234567812345678\n",
      "1234567812345678\n"
     ]
    }
   ],
   "source": [
    "# LUHN ALOGRIHTM\n",
    "def checkValidity(card_number):\n",
    "  # card_number = input(\"Enter the card number: \")\n",
    "  card_number = card_number.replace(\" \",\"\").replace(\"-\",\"\")\n",
    "  if not card_number.isdigit():\n",
    "    print(\"Enter only digits for continue the process.\")\n",
    "    return\n",
    "  if len(card_number) != 16:\n",
    "    print(\"Invalid card number.Please enter a valid card numbr.\")\n",
    "    return\n",
    "  a = [int(i) for i in card_number]\n",
    "  a.reverse()\n",
    "\n",
    "\n",
    "  for i in range(len(a)):\n",
    "    if i%2 == 1:\n",
    "      a[i] *= 2\n",
    "      if a[i] > 9:\n",
    "        a[i] -= 9\n",
    "\n",
    "  total = sum(a)\n",
    "  return total%10 == 0\n",
    "# print(card_number)\n",
    "card_number = input(\"Enter your credit/debit card number: \")\n",
    "print(card_number)\n",
    "if checkValidity(card_number):\n",
    "    print(\"Valid card number.\")\n",
    "else:\n",
    "  print(\"Invalid card number.\")\n",
    "\n",
    "# checkValidity()\n",
    "\n",
    "\n",
    "\n"
   ]
  },
  {
   "cell_type": "code",
   "execution_count": 29,
   "id": "ee866dd3",
   "metadata": {},
   "outputs": [
    {
     "name": "stdout",
     "output_type": "stream",
     "text": [
      "Enter the string: egres?\n",
      "egres\n",
      "<class 'str'>\n"
     ]
    }
   ],
   "source": [
    "punctuations = ['.', ',', '?', '!', ':', ';', \"'\", '\"', '(', ')', '[', ']', '{', '}', '–', '—', '-', '...', '/', '\\\\', '@', '&', '*', '_', '|', '^', '~', '<', '>', '$']\n",
    "str1 = input(\"Enter the string: \")\n",
    "txt = \"\"\n",
    "for char in str1:\n",
    "    if char not in punctuations:\n",
    "        txt += char\n",
    "print(txt)\n",
    "print(type(txt))\n"
   ]
  },
  {
   "cell_type": "code",
   "execution_count": 2,
   "id": "10f967cb",
   "metadata": {},
   "outputs": [
    {
     "name": "stdout",
     "output_type": "stream",
     "text": [
      "After pass 1 the list will be ['Flight', 'James', 'Doctor', 'Eight', 'Xeon']\n",
      "After pass 2 the list will be ['Flight', 'Doctor', 'Eight', 'James', 'Xeon']\n",
      "After pass 3 the list will be ['Doctor', 'Eight', 'Flight', 'James', 'Xeon']\n",
      "After pass 4 the list will be ['Doctor', 'Eight', 'Flight', 'James', 'Xeon']\n",
      "After pass 5 the list will be ['Doctor', 'Eight', 'Flight', 'James', 'Xeon']\n"
     ]
    }
   ],
   "source": [
    "txt_list = [\"Xeon\",\"Flight\",\"James\",\"Doctor\",\"Eight\"]\n",
    "for i in range(len(txt_list)):\n",
    "    for j in range(len(txt_list)-i-1):\n",
    "#         print(i,j)\n",
    "        if txt_list[j] > txt_list[j+1]:\n",
    "            txt_list[j],txt_list[j+1] = txt_list[j+1],txt_list[j]\n",
    "\n",
    "    print(f\"After pass {i+1} the list will be {txt_list}\")"
   ]
  },
  {
   "cell_type": "code",
   "execution_count": 14,
   "id": "f69e762e",
   "metadata": {},
   "outputs": [
    {
     "name": "stdout",
     "output_type": "stream",
     "text": [
      "['Orange', 'Banana']\n"
     ]
    },
    {
     "data": {
      "text/plain": [
       "'Banana'"
      ]
     },
     "execution_count": 14,
     "metadata": {},
     "output_type": "execute_result"
    }
   ],
   "source": [
    "fruits = [\"Orange\",\"Apple\",\"Banana\"]\n",
    "fruits.remove(\"Apple\")\n",
    "print(fruits)\n",
    "fruits.pop()"
   ]
  },
  {
   "cell_type": "code",
   "execution_count": 15,
   "id": "e1ec4c4a",
   "metadata": {},
   "outputs": [
    {
     "name": "stdout",
     "output_type": "stream",
     "text": [
      "['Orange']\n"
     ]
    }
   ],
   "source": [
    " print(fruits)"
   ]
  },
  {
   "cell_type": "code",
   "execution_count": 17,
   "id": "f806beb0",
   "metadata": {},
   "outputs": [],
   "source": [
    "# fruits.append(\"Apple\")\n",
    "fruits.append(\"Banana\")"
   ]
  },
  {
   "cell_type": "code",
   "execution_count": 18,
   "id": "cfa73733",
   "metadata": {},
   "outputs": [
    {
     "name": "stdout",
     "output_type": "stream",
     "text": [
      "['Orange', 'Apple', 'Banana']\n"
     ]
    }
   ],
   "source": [
    "print(fruits)"
   ]
  },
  {
   "cell_type": "code",
   "execution_count": 19,
   "id": "60c592ca",
   "metadata": {},
   "outputs": [
    {
     "data": {
      "text/plain": [
       "'Apple'"
      ]
     },
     "execution_count": 19,
     "metadata": {},
     "output_type": "execute_result"
    }
   ],
   "source": [
    "fruits.pop(1)"
   ]
  },
  {
   "cell_type": "code",
   "execution_count": 35,
   "id": "38b8082a",
   "metadata": {},
   "outputs": [
    {
     "name": "stdout",
     "output_type": "stream",
     "text": [
      "4\n",
      "5\n",
      "3\n",
      "2\n",
      "0\n",
      "1\n",
      "5\n",
      "1\n",
      "1\n",
      "2\n",
      "8\n",
      "3\n",
      "0\n",
      "3\n",
      "6\n",
      "6\n"
     ]
    }
   ],
   "source": [
    "card_number = \"4532015112830366\"  # A typical credit card number as a string\n",
    "\n",
    "# Example of how you might iterate over it\n",
    "for digit in card_number:\n",
    "    print(int(digit))  # Convert each character to an integer for processing\n"
   ]
  },
  {
   "cell_type": "code",
   "execution_count": null,
   "id": "6fce3b5d",
   "metadata": {},
   "outputs": [],
   "source": []
  }
 ],
 "metadata": {
  "kernelspec": {
   "display_name": "Python 3 (ipykernel)",
   "language": "python",
   "name": "python3"
  },
  "language_info": {
   "codemirror_mode": {
    "name": "ipython",
    "version": 3
   },
   "file_extension": ".py",
   "mimetype": "text/x-python",
   "name": "python",
   "nbconvert_exporter": "python",
   "pygments_lexer": "ipython3",
   "version": "3.11.5"
  }
 },
 "nbformat": 4,
 "nbformat_minor": 5
}
