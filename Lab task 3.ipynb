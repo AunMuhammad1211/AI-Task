{
 "cells": [
  {
   "cell_type": "code",
   "execution_count": null,
   "id": "94786b3c",
   "metadata": {},
   "outputs": [],
   "source": [
    "# Mini Project 3"
   ]
  },
  {
   "cell_type": "code",
   "execution_count": 8,
   "id": "9eb9d0a5",
   "metadata": {},
   "outputs": [
    {
     "name": "stdout",
     "output_type": "stream",
     "text": [
      "Living_room: Current temperature = 20°C. Turn off the heater.\n",
      "Action: Turn on the heater\n",
      "Bed_room: Current temperature = 18°C. Turn on the heater.\n",
      "Action: Turn on the heater\n",
      "kitchen: Current temperature = 22°C. Turn on the heater.\n",
      "Action: Turn off the heater\n",
      "Drwaing_room: Current temperature = 26°C. Turn off the heater.\n",
      "Action: Turn off the heater\n"
     ]
    }
   ],
   "source": [
    "class ModelBasedReflexAgent:\n",
    "    def __init__(self,disered_temp):\n",
    "        self.disered_temp = disered_temp\n",
    "        self.heater_state = {}\n",
    "        \n",
    "    def precieve_temp(self,current_temp):\n",
    "        return current_temp\n",
    "    \n",
    "    def action(self, room, current_temp):\n",
    "        previous_state = self.heater_state.get(room)\n",
    "        if current_temp < self.disered_temp and previous_state != \"on\":\n",
    "            action_perform = \"Turn on the heater\"\n",
    "            self.heater_state[room] = \"on\"\n",
    "        elif current_temp >= self.disered_temp and previous_state != \"off\":\n",
    "            action_perform = \"Turn off the heater\"\n",
    "            self.heater_state[room] = \"off\"\n",
    "        else:\n",
    "            action_perform = \"Do nothing\"\n",
    "    \n",
    "        print(f\"Action: {action_perform}\")\n",
    "        return action_perform\n",
    "\n",
    "rooms = {\n",
    "    \"Living_room\": 20,\n",
    "    \"Bed_room\": 18,\n",
    "    \"kitchen\": 22,\n",
    "    \"Drwaing_room\": 26\n",
    "}            \n",
    "disered_temp = 22\n",
    "modelbasereflexagent = ModelBasedReflexAgent(disered_temp)\n",
    "for room,temp in rooms.items():\n",
    "    print(f\"{room}: Current temperature = {temp}°C. {action_perform}.\")\n",
    "    action_perform = modelbasereflexagent.action(room,temp)"
   ]
  },
  {
   "cell_type": "code",
   "execution_count": null,
   "id": "016682a0",
   "metadata": {},
   "outputs": [],
   "source": [
    "\n"
   ]
  },
  {
   "cell_type": "code",
   "execution_count": 13,
   "id": "7c422859",
   "metadata": {},
   "outputs": [],
   "source": []
  }
 ],
 "metadata": {
  "kernelspec": {
   "display_name": "Python 3 (ipykernel)",
   "language": "python",
   "name": "python3"
  },
  "language_info": {
   "codemirror_mode": {
    "name": "ipython",
    "version": 3
   },
   "file_extension": ".py",
   "mimetype": "text/x-python",
   "name": "python",
   "nbconvert_exporter": "python",
   "pygments_lexer": "ipython3",
   "version": "3.11.5"
  }
 },
 "nbformat": 4,
 "nbformat_minor": 5
}
