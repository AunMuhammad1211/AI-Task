{
 "cells": [
  {
   "cell_type": "code",
   "execution_count": 4,
   "id": "7ebc37dd",
   "metadata": {},
   "outputs": [
    {
     "name": "stdout",
     "output_type": "stream",
     "text": [
      "Inorder Traversal:\n",
      "4 2 5 1 3 \n",
      "Preorder Traversal:\n",
      "1 2 4 5 3 \n",
      "Postorder Traversal:\n",
      "4 5 2 3 1 "
     ]
    }
   ],
   "source": [
    "class TreeNode:\n",
    "    def __init__(self, value):\n",
    "        self.value = value\n",
    "        self.left = None\n",
    "        self.right = None\n",
    "\n",
    "def inorder_traversal(node):\n",
    "    if node:\n",
    "        inorder_traversal(node.left)\n",
    "        print(node.value, end=\" \")  \n",
    "        inorder_traversal(node.right)\n",
    "\n",
    "def preorder_traversal(node):\n",
    "    if node:\n",
    "        print(node.value, end=\" \")  \n",
    "        preorder_traversal(node.left)\n",
    "        preorder_traversal(node.right)\n",
    "\n",
    "def postorder_traversal(node):\n",
    "    if node:\n",
    "        postorder_traversal(node.left)\n",
    "        postorder_traversal(node.right)\n",
    "        print(node.value, end=\" \")  \n",
    "\n",
    "root = TreeNode(1)\n",
    "root.left = TreeNode(2)\n",
    "root.right = TreeNode(3)\n",
    "root.left.left = TreeNode(4)\n",
    "root.left.right = TreeNode(5)\n",
    "\n",
    "print(\"Inorder Traversal:\")\n",
    "inorder_traversal(root)  \n",
    "\n",
    "print(\"\\nPreorder Traversal:\")\n",
    "preorder_traversal(root)  \n",
    "\n",
    "print(\"\\nPostorder Traversal:\")\n",
    "postorder_traversal(root)  \n"
   ]
  }
 ],
 "metadata": {
  "kernelspec": {
   "display_name": "Python 3 (ipykernel)",
   "language": "python",
   "name": "python3"
  },
  "language_info": {
   "codemirror_mode": {
    "name": "ipython",
    "version": 3
   },
   "file_extension": ".py",
   "mimetype": "text/x-python",
   "name": "python",
   "nbconvert_exporter": "python",
   "pygments_lexer": "ipython3",
   "version": "3.11.5"
  }
 },
 "nbformat": 4,
 "nbformat_minor": 5
}
